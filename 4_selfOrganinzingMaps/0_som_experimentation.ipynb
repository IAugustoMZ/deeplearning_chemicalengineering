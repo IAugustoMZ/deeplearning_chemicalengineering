{
 "cells": [
  {
   "cell_type": "markdown",
   "metadata": {},
   "source": [
    "# **Self Organizing Maps in Knowledge Retention Detection**\n",
    "\n"
   ]
  },
  {
   "cell_type": "code",
   "execution_count": 118,
   "metadata": {},
   "outputs": [],
   "source": [
    "import os\n",
    "import numpy as np\n",
    "import pandas as pd\n",
    "import matplotlib.pyplot as plt\n",
    "from modules.minisom import MiniSom\n",
    "from pylab import bone, pcolor, colorbar\n",
    "from sklearn.preprocessing import MinMaxScaler"
   ]
  },
  {
   "cell_type": "code",
   "execution_count": 119,
   "metadata": {},
   "outputs": [],
   "source": [
    "# create a dataset of perfect specialists for each group of questions\n",
    "def create_specialists_data(N:int, Nq:int=4, \n",
    "                            low: int=1, high:int=5,\n",
    "                            blocks_specialists: int=100):\n",
    "    \"\"\"\n",
    "    creates a dataset that represents\n",
    "    the ideal answers of specialists in each area\n",
    "    of knowledge.\n",
    "\n",
    "    :param N: number of group of knowledges\n",
    "    :type N: int\n",
    "    :param Nq: number of questions in each group of knowledge, defaults to 4\n",
    "    :type Nq: int, optional\n",
    "    :param low: lowest grade possible, defaults to 1\n",
    "    :type low: int, optional\n",
    "    :param high: highest grade possible, defaults to 5\n",
    "    :type high: int, optional\n",
    "    :param blocks_specialists: numbers of blocks of specialists to be created, defaults to 100\n",
    "    :type blocks_specialists: int, optional\n",
    "    \"\"\"\n",
    "\n",
    "    # total number of questions\n",
    "    Nt = N * Nq\n",
    "\n",
    "    # standard row\n",
    "    std_row = np.repeat(low, repeats=Nt)\n",
    "\n",
    "    # each specialist has the maximum grade in each \n",
    "    # area and the lowest in the other areas\n",
    "    aux = []\n",
    "    for _ in range(blocks_specialists):\n",
    "        for i in range(0, Nt, Nq):\n",
    "            row = std_row.copy()\n",
    "            row[i:i+Nq] = high\n",
    "\n",
    "            # append to data\n",
    "            aux.append(row)\n",
    "\n",
    "    # create dataframe\n",
    "    cols = [f'Q{i+1}' for i in range(Nt)]\n",
    "    data = pd.DataFrame(aux, columns=cols)\n",
    "\n",
    "    return data"
   ]
  },
  {
   "cell_type": "code",
   "execution_count": 120,
   "metadata": {},
   "outputs": [],
   "source": [
    "# create data of specialists\n",
    "Nspc = 5\n",
    "data_perfect = create_specialists_data(Nspc, Nq=4)"
   ]
  },
  {
   "cell_type": "code",
   "execution_count": 121,
   "metadata": {},
   "outputs": [],
   "source": [
    "# feature scaling\n",
    "scaler = MinMaxScaler(feature_range=(0, 1))\n",
    "scaler.fit(data_perfect)\n",
    "x_sc = scaler.transform(data_perfect)"
   ]
  },
  {
   "cell_type": "code",
   "execution_count": 122,
   "metadata": {},
   "outputs": [
    {
     "name": "stdout",
     "output_type": "stream",
     "text": [
      "Lado do Mapa: 10\n"
     ]
    }
   ],
   "source": [
    "# create the object and fit the mode\n",
    "N = int(np.sqrt(5 * np.sqrt(x_sc.shape[0]))) \n",
    "print(f'Lado do Mapa: {N}')"
   ]
  },
  {
   "cell_type": "code",
   "execution_count": 123,
   "metadata": {},
   "outputs": [],
   "source": [
    "# train the model - the size of the map was chosen based \n",
    "# on the recommendations of the creators of the packages\n",
    "som = MiniSom(x=N, y=N, input_len=x_sc.shape[1], sigma=N-1, learning_rate=0.5)\n",
    "som.random_weights_init(x_sc)\n",
    "som.train_random(x_sc, num_iteration=200)"
   ]
  },
  {
   "cell_type": "code",
   "execution_count": 124,
   "metadata": {},
   "outputs": [
    {
     "data": {
      "text/plain": [
       "<matplotlib.colorbar.Colorbar at 0x18b4c5255b0>"
      ]
     },
     "execution_count": 124,
     "metadata": {},
     "output_type": "execute_result"
    },
    {
     "data": {
      "image/png": "[encoded data removed]",
      "text/plain": [
       "<Figure size 640x480 with 2 Axes>"
      ]
     },
     "metadata": {},
     "output_type": "display_data"
    }
   ],
   "source": [
    "# visualize the results\n",
    "bone()\n",
    "pcolor(som.distance_map().T)\n",
    "colorbar()"
   ]
  },
  {
   "cell_type": "code",
   "execution_count": 125,
   "metadata": {},
   "outputs": [],
   "source": [
    "# get winning neurons for each sample\n",
    "coord_list = []\n",
    "for i in range(x_sc.shape[0]):\n",
    "\n",
    "    # get winning neuron coordinates\n",
    "    coord = som.winner(x=x_sc[i])\n",
    "\n",
    "    # get coordinates of each sample\n",
    "    coord_list.append(coord)\n",
    "\n",
    "# append coordinates column to dataset\n",
    "data_perfect['coord'] = coord_list"
   ]
  },
  {
   "cell_type": "code",
   "execution_count": 126,
   "metadata": {},
   "outputs": [
    {
     "data": {
      "text/html": [
       "<div>\n",
       "<style scoped>\n",
       "    .dataframe tbody tr th:only-of-type {\n",
       "        vertical-align: middle;\n",
       "    }\n",
       "\n",
       "    .dataframe tbody tr th {\n",
       "        vertical-align: top;\n",
       "    }\n",
       "\n",
       "    .dataframe thead th {\n",
       "        text-align: right;\n",
       "    }\n",
       "</style>\n",
       "<table border=\"1\" class=\"dataframe\">\n",
       "  <thead>\n",
       "    <tr style=\"text-align: right;\">\n",
       "      <th></th>\n",
       "      <th>Q1</th>\n",
       "      <th>Q2</th>\n",
       "      <th>Q3</th>\n",
       "      <th>Q4</th>\n",
       "      <th>Q5</th>\n",
       "      <th>Q6</th>\n",
       "      <th>Q7</th>\n",
       "      <th>Q8</th>\n",
       "      <th>Q9</th>\n",
       "      <th>Q10</th>\n",
       "      <th>...</th>\n",
       "      <th>Q12</th>\n",
       "      <th>Q13</th>\n",
       "      <th>Q14</th>\n",
       "      <th>Q15</th>\n",
       "      <th>Q16</th>\n",
       "      <th>Q17</th>\n",
       "      <th>Q18</th>\n",
       "      <th>Q19</th>\n",
       "      <th>Q20</th>\n",
       "      <th>coord</th>\n",
       "    </tr>\n",
       "  </thead>\n",
       "  <tbody>\n",
       "    <tr>\n",
       "      <th>0</th>\n",
       "      <td>5</td>\n",
       "      <td>5</td>\n",
       "      <td>5</td>\n",
       "      <td>5</td>\n",
       "      <td>1</td>\n",
       "      <td>1</td>\n",
       "      <td>1</td>\n",
       "      <td>1</td>\n",
       "      <td>1</td>\n",
       "      <td>1</td>\n",
       "      <td>...</td>\n",
       "      <td>1</td>\n",
       "      <td>1</td>\n",
       "      <td>1</td>\n",
       "      <td>1</td>\n",
       "      <td>1</td>\n",
       "      <td>1</td>\n",
       "      <td>1</td>\n",
       "      <td>1</td>\n",
       "      <td>1</td>\n",
       "      <td>(0, 0)</td>\n",
       "    </tr>\n",
       "    <tr>\n",
       "      <th>1</th>\n",
       "      <td>1</td>\n",
       "      <td>1</td>\n",
       "      <td>1</td>\n",
       "      <td>1</td>\n",
       "      <td>5</td>\n",
       "      <td>5</td>\n",
       "      <td>5</td>\n",
       "      <td>5</td>\n",
       "      <td>1</td>\n",
       "      <td>1</td>\n",
       "      <td>...</td>\n",
       "      <td>1</td>\n",
       "      <td>1</td>\n",
       "      <td>1</td>\n",
       "      <td>1</td>\n",
       "      <td>1</td>\n",
       "      <td>1</td>\n",
       "      <td>1</td>\n",
       "      <td>1</td>\n",
       "      <td>1</td>\n",
       "      <td>(4, 4)</td>\n",
       "    </tr>\n",
       "    <tr>\n",
       "      <th>2</th>\n",
       "      <td>1</td>\n",
       "      <td>1</td>\n",
       "      <td>1</td>\n",
       "      <td>1</td>\n",
       "      <td>1</td>\n",
       "      <td>1</td>\n",
       "      <td>1</td>\n",
       "      <td>1</td>\n",
       "      <td>5</td>\n",
       "      <td>5</td>\n",
       "      <td>...</td>\n",
       "      <td>5</td>\n",
       "      <td>1</td>\n",
       "      <td>1</td>\n",
       "      <td>1</td>\n",
       "      <td>1</td>\n",
       "      <td>1</td>\n",
       "      <td>1</td>\n",
       "      <td>1</td>\n",
       "      <td>1</td>\n",
       "      <td>(0, 9)</td>\n",
       "    </tr>\n",
       "    <tr>\n",
       "      <th>3</th>\n",
       "      <td>1</td>\n",
       "      <td>1</td>\n",
       "      <td>1</td>\n",
       "      <td>1</td>\n",
       "      <td>1</td>\n",
       "      <td>1</td>\n",
       "      <td>1</td>\n",
       "      <td>1</td>\n",
       "      <td>1</td>\n",
       "      <td>1</td>\n",
       "      <td>...</td>\n",
       "      <td>1</td>\n",
       "      <td>5</td>\n",
       "      <td>5</td>\n",
       "      <td>5</td>\n",
       "      <td>5</td>\n",
       "      <td>1</td>\n",
       "      <td>1</td>\n",
       "      <td>1</td>\n",
       "      <td>1</td>\n",
       "      <td>(9, 9)</td>\n",
       "    </tr>\n",
       "    <tr>\n",
       "      <th>4</th>\n",
       "      <td>1</td>\n",
       "      <td>1</td>\n",
       "      <td>1</td>\n",
       "      <td>1</td>\n",
       "      <td>1</td>\n",
       "      <td>1</td>\n",
       "      <td>1</td>\n",
       "      <td>1</td>\n",
       "      <td>1</td>\n",
       "      <td>1</td>\n",
       "      <td>...</td>\n",
       "      <td>1</td>\n",
       "      <td>1</td>\n",
       "      <td>1</td>\n",
       "      <td>1</td>\n",
       "      <td>1</td>\n",
       "      <td>5</td>\n",
       "      <td>5</td>\n",
       "      <td>5</td>\n",
       "      <td>5</td>\n",
       "      <td>(9, 0)</td>\n",
       "    </tr>\n",
       "  </tbody>\n",
       "</table>\n",
       "<p>5 rows × 21 columns</p>\n",
       "</div>"
      ],
      "text/plain": [
       "   Q1  Q2  Q3  Q4  Q5  Q6  Q7  Q8  Q9  Q10  ...  Q12  Q13  Q14  Q15  Q16  Q17   \n",
       "0   5   5   5   5   1   1   1   1   1    1  ...    1    1    1    1    1    1  \\\n",
       "1   1   1   1   1   5   5   5   5   1    1  ...    1    1    1    1    1    1   \n",
       "2   1   1   1   1   1   1   1   1   5    5  ...    5    1    1    1    1    1   \n",
       "3   1   1   1   1   1   1   1   1   1    1  ...    1    5    5    5    5    1   \n",
       "4   1   1   1   1   1   1   1   1   1    1  ...    1    1    1    1    1    5   \n",
       "\n",
       "   Q18  Q19  Q20   coord  \n",
       "0    1    1    1  (0, 0)  \n",
       "1    1    1    1  (4, 4)  \n",
       "2    1    1    1  (0, 9)  \n",
       "3    1    1    1  (9, 9)  \n",
       "4    5    5    5  (9, 0)  \n",
       "\n",
       "[5 rows x 21 columns]"
      ]
     },
     "execution_count": 126,
     "metadata": {},
     "output_type": "execute_result"
    }
   ],
   "source": [
    "data_perfect.head(Nspc)"
   ]
  }
 ],
 "metadata": {
  "kernelspec": {
   "display_name": "deepLearningChemEng",
   "language": "python",
   "name": "python3"
  },
  "language_info": {
   "codemirror_mode": {
    "name": "ipython",
    "version": 3
   },
   "file_extension": ".py",
   "mimetype": "text/x-python",
   "name": "python",
   "nbconvert_exporter": "python",
   "pygments_lexer": "ipython3",
   "version": "3.9.12"
  },
  "orig_nbformat": 4
 },
 "nbformat": 4,
 "nbformat_minor": 2
}
